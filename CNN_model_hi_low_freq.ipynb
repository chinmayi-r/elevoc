{
 "cells": [
  {
   "cell_type": "markdown",
   "metadata": {},
   "source": [
    "## Split Audio"
   ]
  },
  {
   "cell_type": "code",
   "execution_count": 1,
   "metadata": {},
   "outputs": [],
   "source": [
    "from pydub import AudioSegment\n",
    "import os\n",
    "import pandas as pd\n",
    "import numpy as np\n",
    "import librosa\n",
    "from sklearn.model_selection import train_test_split\n",
    "import matplotlib.pyplot as plt\n",
    "%matplotlib inline"
   ]
  },
  {
   "cell_type": "code",
   "execution_count": 2,
   "metadata": {},
   "outputs": [],
   "source": [
    "inputDirectory = '../input/all/'"
   ]
  },
  {
   "cell_type": "code",
   "execution_count": 3,
   "metadata": {},
   "outputs": [],
   "source": [
    "def split_and_read(filename, audioFile, metaDataFile, sample_rate=22000):\n",
    "    \"\"\"\n",
    "    Read .wav file, split all vocalizations, and resample to a fixed sample rate for uniformity\n",
    "    Params - \n",
    "    filename: name of wav file\n",
    "    audioPath: path to wav file\n",
    "    metaDataPath: path to txt file containing the start and end times for each vocalization\n",
    "    \n",
    "    Returns - \n",
    "    List containg arrays corresponding to each vocalization in wav file of format:(resampled data of one vocalization in in wav file of size (length of vocalization in seconds*sample rate), length of vocalization in seconds, if the vocalization contains coarse crackles, if the vocalization contains fine crackles)\n",
    "    \"\"\"\n",
    "    print('working on audio: ' + audioFile + ' and metafile: ' + metaDataFile)\n",
    "    recording_annotations = pd.read_csv(metaDataFile,\n",
    "                                        names=['Start', 'End', 'bit1', 'bit2'], delimiter='\\t')\n",
    "\n",
    "    recording_audio = AudioSegment.from_wav(audioFile)\n",
    "    data = [filename]\n",
    "    print(len(recording_annotations.index))\n",
    "\n",
    "    for i in range(len(recording_annotations.index)):\n",
    "        \n",
    "        row = recording_annotations.loc[i]\n",
    "        start = row['Start']\n",
    "        end = row['End']\n",
    "        bit1 = int(row['bit1'])\n",
    "        bit2 = int(row['bit2'])\n",
    "        \n",
    "        audio_chunk = recording_audio[int(start*1000) : int(end*1000)]\n",
    "        \n",
    "        if ((bit1 == 1) & (bit2 == 0)):\n",
    "            if_bit1 = True\n",
    "            if_bit2 = False\n",
    "        elif (bit1 == 0) & (bit2 == 1):\n",
    "            if_bit1 = False\n",
    "            if_bit2 = True\n",
    "        elif (bit1 == 0) & (bit2 == 0):\n",
    "            if_bit1 = False\n",
    "            if_bit2 = False\n",
    "        elif (bit1 == 1) & (bit2 == 1):\n",
    "            if_bit1 = True\n",
    "            if_bit2 = True\n",
    "            \n",
    "        \n",
    "        samples = audio_chunk.get_array_of_samples()\n",
    "        audio_chunk_data = np.array(samples).astype(np.float32)/32768 # convert 24 bit wav file to 16 bit\n",
    "        audio_chunk_resampled = librosa.resample(audio_chunk_data, audio_chunk.frame_rate, sample_rate, res_type='kaiser_best')\n",
    "        \n",
    "        data.append([audio_chunk_resampled, len(audio_chunk), if_bit1, if_bit2])\n",
    "        \n",
    "        print (\"length of audio: \" ,len(audio_chunk))\n",
    "        \n",
    "    return data"
   ]
  },
  {
   "cell_type": "code",
   "execution_count": 4,
   "metadata": {
    "tags": [
     "outputPrepend"
    ]
   },
   "outputs": [
    {
     "name": "stdout",
     "output_type": "stream",
     "text": [
      "working on audio: ../input/all/Kaziranga Wild Ele Call 25_18.01.2020.wav and metafile: ../input/all/Kaziranga Wild Ele Call 25_18.01.2020.txt\n",
      "1\n",
      "length of audio:  638\n",
      "working on audio: ../input/all/Kaziranga Wild Ele Call 73_28.01.2020.wav and metafile: ../input/all/Kaziranga Wild Ele Call 73_28.01.2020.txt\n",
      "1\n",
      "length of audio:  3404\n",
      "working on audio: ../input/all/Kaziranga Wild Ele Call 74_28.01.2020.wav and metafile: ../input/all/Kaziranga Wild Ele Call 74_28.01.2020.txt\n",
      "1\n",
      "length of audio:  3206\n",
      "working on audio: ../input/all/Kaziranga Wild Ele Call 75_28.01.2020.wav and metafile: ../input/all/Kaziranga Wild Ele Call 75_28.01.2020.txt\n",
      "1\n",
      "length of audio:  2712\n",
      "working on audio: ../input/all/Kaziranga Wild Ele Call 76_28.01.2020.wav and metafile: ../input/all/Kaziranga Wild Ele Call 76_28.01.2020.txt\n",
      "1\n",
      "length of audio:  6087\n",
      "working on audio: ../input/all/Kaziranga Wild Ele Call 90_29.01.2020.wav and metafile: ../input/all/Kaziranga Wild Ele Call 90_29.01.2020.txt\n",
      "1\n",
      "length of audio:  3139\n",
      "working on audio: ../input/all/Kaziranga Wild Ele Call 94_29.01.2020.wav and metafile: ../input/all/Kaziranga Wild Ele Call 94_29.01.2020.txt\n",
      "1\n",
      "length of audio:  1999\n",
      "working on audio: ../input/all/Kaziranga Wild Ele Call 101_29.01.2020.wav and metafile: ../input/all/Kaziranga Wild Ele Call 101_29.01.2020.txt\n",
      "1\n",
      "length of audio:  1056\n",
      "working on audio: ../input/all/Kaziranga Wild Ele Call 105_29.01.2020.wav and metafile: ../input/all/Kaziranga Wild Ele Call 105_29.01.2020.txt\n",
      "1\n",
      "length of audio:  1236\n",
      "working on audio: ../input/all/Kaziranga Wild Ele Call 119_03.02.2020.wav and metafile: ../input/all/Kaziranga Wild Ele Call 119_03.02.2020.txt\n",
      "1\n",
      "length of audio:  2635\n",
      "working on audio: ../input/all/Kaziranga Wild Ele Call 120_03.02.2020.wav and metafile: ../input/all/Kaziranga Wild Ele Call 120_03.02.2020.txt\n",
      "1\n",
      "length of audio:  1879\n",
      "working on audio: ../input/all/Kaziranga Wild Ele Call 264_14.02.2020.wav and metafile: ../input/all/Kaziranga Wild Ele Call 264_14.02.2020.txt\n",
      "1\n",
      "length of audio:  864\n",
      "working on audio: ../input/all/Kaziranga Wild Ele Call 277_14.02.2020.wav and metafile: ../input/all/Kaziranga Wild Ele Call 277_14.02.2020.txt\n",
      "1\n",
      "length of audio:  3737\n",
      "working on audio: ../input/all/Kaziranga Wild Ele Call 308_17.02.2020.wav and metafile: ../input/all/Kaziranga Wild Ele Call 308_17.02.2020.txt\n",
      "1\n",
      "length of audio:  390\n",
      "working on audio: ../input/all/Kaziranga Wild Ele Call 324_24.02.2020.wav and metafile: ../input/all/Kaziranga Wild Ele Call 324_24.02.2020.txt\n",
      "1\n",
      "length of audio:  800\n",
      "working on audio: ../input/all/Kaziranga Wild Ele Call 345_03.03.2020.wav and metafile: ../input/all/Kaziranga Wild Ele Call 345_03.03.2020.txt\n",
      "1\n",
      "length of audio:  448\n",
      "working on audio: ../input/all/Kaziranga Wild Ele Call 348_03.03.2020.wav and metafile: ../input/all/Kaziranga Wild Ele Call 348_03.03.2020.txt\n",
      "1\n",
      "length of audio:  1808\n",
      "working on audio: ../input/all/Kaziranga Wild Ele Call 349_03.03.2020.wav and metafile: ../input/all/Kaziranga Wild Ele Call 349_03.03.2020.txt\n",
      "1\n",
      "length of audio:  2008\n",
      "working on audio: ../input/all/Kaziranga Wild Ele Call 350_03.03.2020.wav and metafile: ../input/all/Kaziranga Wild Ele Call 350_03.03.2020.txt\n",
      "1\n",
      "length of audio:  583\n",
      "working on audio: ../input/all/Kaziranga Wild Ele Call 1_18.01.2020.wav and metafile: ../input/all/Kaziranga Wild Ele Call 1_18.01.2020.txt\n",
      "1\n",
      "length of audio:  7\n",
      "working on audio: ../input/all/Kaziranga Wild Ele Call 5_18.01.2020.wav and metafile: ../input/all/Kaziranga Wild Ele Call 5_18.01.2020.txt\n",
      "1\n",
      "length of audio:  1391\n",
      "working on audio: ../input/all/Kaziranga Wild Ele Call 40_23.01.2020.wav and metafile: ../input/all/Kaziranga Wild Ele Call 40_23.01.2020.txt\n",
      "1\n",
      "length of audio:  563\n",
      "working on audio: ../input/all/Kaziranga Wild Ele Call 55_23.01.2020.wav and metafile: ../input/all/Kaziranga Wild Ele Call 55_23.01.2020.txt\n",
      "1\n",
      "length of audio:  567\n",
      "working on audio: ../input/all/Kaziranga Wild Ele Call 57_23.01.2020.wav and metafile: ../input/all/Kaziranga Wild Ele Call 57_23.01.2020.txt\n",
      "1\n",
      "length of audio:  1073\n",
      "working on audio: ../input/all/Kaziranga Wild Ele Call 59_23.01.2020.wav and metafile: ../input/all/Kaziranga Wild Ele Call 59_23.01.2020.txt\n",
      "1\n",
      "length of audio:  2059\n",
      "working on audio: ../input/all/Kaziranga Wild Ele Call 60_23.01.2020.wav and metafile: ../input/all/Kaziranga Wild Ele Call 60_23.01.2020.txt\n",
      "1\n",
      "length of audio:  1749\n",
      "working on audio: ../input/all/Kaziranga Wild Ele Call 86_29.01.2020.wav and metafile: ../input/all/Kaziranga Wild Ele Call 86_29.01.2020.txt\n",
      "1\n",
      "length of audio:  1353\n",
      "working on audio: ../input/all/Kaziranga Wild Ele Call 128_04.02.2020.wav and metafile: ../input/all/Kaziranga Wild Ele Call 128_04.02.2020.txt\n",
      "1\n",
      "length of audio:  2008\n",
      "working on audio: ../input/all/Kaziranga Wild Ele Call 232_14.02.2020.wav and metafile: ../input/all/Kaziranga Wild Ele Call 232_14.02.2020.txt\n",
      "1\n",
      "length of audio:  3357\n",
      "working on audio: ../input/all/Kaziranga Wild Ele Call 303_17.02.2020.wav and metafile: ../input/all/Kaziranga Wild Ele Call 303_17.02.2020.txt\n",
      "1\n",
      "length of audio:  1932\n",
      "working on audio: ../input/all/Kaziranga Wild Ele Call 317_18.02.2020.wav and metafile: ../input/all/Kaziranga Wild Ele Call 317_18.02.2020.txt\n",
      "1\n",
      "length of audio:  1586\n",
      "working on audio: ../input/all/Kaziranga Wild Ele Call 331_24.02.2020.wav and metafile: ../input/all/Kaziranga Wild Ele Call 331_24.02.2020.txt\n",
      "1\n",
      "length of audio:  417\n",
      "working on audio: ../input/all/Kaziranga Wild Ele Call 343_03.03.2020.wav and metafile: ../input/all/Kaziranga Wild Ele Call 343_03.03.2020.txt\n",
      "1\n",
      "length of audio:  529\n",
      "working on audio: ../input/all/Kaziranga Wild Ele Call 26_18.01.2020.wav and metafile: ../input/all/Kaziranga Wild Ele Call 26_18.01.2020.txt\n",
      "1\n",
      "length of audio:  2237\n",
      "working on audio: ../input/all/Kaziranga Wild Ele Call 39_23.01.2020.wav and metafile: ../input/all/Kaziranga Wild Ele Call 39_23.01.2020.txt\n",
      "1\n",
      "length of audio:  4101\n",
      "working on audio: ../input/all/Kaziranga Wild Ele Call 62_23.01.2020.wav and metafile: ../input/all/Kaziranga Wild Ele Call 62_23.01.2020.txt\n",
      "1\n",
      "length of audio:  4198\n",
      "working on audio: ../input/all/Kaziranga Wild Ele Call 66_25.01.2020.wav and metafile: ../input/all/Kaziranga Wild Ele Call 66_25.01.2020.txt\n",
      "1\n",
      "length of audio:  6073\n",
      "working on audio: ../input/all/Kaziranga Wild Ele Call 68_25.01.2020.wav and metafile: ../input/all/Kaziranga Wild Ele Call 68_25.01.2020.txt\n",
      "1\n",
      "length of audio:  5069\n",
      "working on audio: ../input/all/Kaziranga Wild Ele Call 72_28.01.2020.wav and metafile: ../input/all/Kaziranga Wild Ele Call 72_28.01.2020.txt\n",
      "1\n",
      "length of audio:  3546\n",
      "working on audio: ../input/all/Kaziranga Wild Ele Call 87_29.01.2020.wav and metafile: ../input/all/Kaziranga Wild Ele Call 87_29.01.2020.txt\n",
      "1\n",
      "length of audio:  3937\n",
      "working on audio: ../input/all/Kaziranga Wild Ele Call 92_29.01.2020.wav and metafile: ../input/all/Kaziranga Wild Ele Call 92_29.01.2020.txt\n",
      "1\n",
      "length of audio:  7710\n",
      "working on audio: ../input/all/Kaziranga Wild Ele Call 114_01.02.2020.wav and metafile: ../input/all/Kaziranga Wild Ele Call 114_01.02.2020.txt\n",
      "1\n",
      "length of audio:  5943\n",
      "working on audio: ../input/all/Kaziranga Wild Ele Call 115_01.02.2020.wav and metafile: ../input/all/Kaziranga Wild Ele Call 115_01.02.2020.txt\n",
      "1\n",
      "length of audio:  5584\n",
      "working on audio: ../input/all/Kaziranga Wild Ele Call 116_01.02.2020.wav and metafile: ../input/all/Kaziranga Wild Ele Call 116_01.02.2020.txt\n",
      "1\n",
      "length of audio:  6105\n",
      "working on audio: ../input/all/Kaziranga Wild Ele Call 134_04.02.2020.wav and metafile: ../input/all/Kaziranga Wild Ele Call 134_04.02.2020.txt\n",
      "1\n",
      "length of audio:  2251\n",
      "working on audio: ../input/all/Kaziranga Wild Ele Call 137_04.02.2020.wav and metafile: ../input/all/Kaziranga Wild Ele Call 137_04.02.2020.txt\n",
      "1\n",
      "length of audio:  3175\n",
      "working on audio: ../input/all/Kaziranga Wild Ele Call 140_05.02.2020.wav and metafile: ../input/all/Kaziranga Wild Ele Call 140_05.02.2020.txt\n",
      "1\n",
      "length of audio:  5596\n",
      "working on audio: ../input/all/Kaziranga Wild Ele Call 143_06.02.2020.wav and metafile: ../input/all/Kaziranga Wild Ele Call 143_06.02.2020.txt\n",
      "1\n",
      "length of audio:  5268\n",
      "working on audio: ../input/all/Kaziranga Wild Ele Call 144_06.02.2020.wav and metafile: ../input/all/Kaziranga Wild Ele Call 144_06.02.2020.txt\n",
      "1\n",
      "length of audio:  5921\n",
      "working on audio: ../input/all/Kaziranga Wild Ele Call 146_06.02.2020.wav and metafile: ../input/all/Kaziranga Wild Ele Call 146_06.02.2020.txt\n",
      "1\n",
      "length of audio:  7346\n",
      "working on audio: ../input/all/Kaziranga Wild Ele Call 147_06.02.2020.wav and metafile: ../input/all/Kaziranga Wild Ele Call 147_06.02.2020.txt\n",
      "1\n",
      "length of audio:  5661\n",
      "working on audio: ../input/all/Kaziranga Wild Ele Call 148_06.02.2020.wav and metafile: ../input/all/Kaziranga Wild Ele Call 148_06.02.2020.txt\n",
      "1\n",
      "length of audio:  7649\n",
      "working on audio: ../input/all/Kaziranga Wild Ele Call 149_06.02.2020.wav and metafile: ../input/all/Kaziranga Wild Ele Call 149_06.02.2020.txt\n",
      "1\n",
      "length of audio:  7463\n",
      "working on audio: ../input/all/Kaziranga Wild Ele Call 150_06.02.2020.wav and metafile: ../input/all/Kaziranga Wild Ele Call 150_06.02.2020.txt\n",
      "1\n",
      "length of audio:  6290\n",
      "working on audio: ../input/all/Kaziranga Wild Ele Call 152_06.02.2020.wav and metafile: ../input/all/Kaziranga Wild Ele Call 152_06.02.2020.txt\n",
      "1\n",
      "length of audio:  7221\n",
      "working on audio: ../input/all/Kaziranga Wild Ele Call 154_06.02.2020.wav and metafile: ../input/all/Kaziranga Wild Ele Call 154_06.02.2020.txt\n",
      "1\n",
      "length of audio:  8404\n",
      "working on audio: ../input/all/Kaziranga Wild Ele Call 156_06.02.2020.wav and metafile: ../input/all/Kaziranga Wild Ele Call 156_06.02.2020.txt\n",
      "1\n",
      "length of audio:  5883\n",
      "working on audio: ../input/all/Kaziranga Wild Ele Call 164_06.02.2020.wav and metafile: ../input/all/Kaziranga Wild Ele Call 164_06.02.2020.txt\n",
      "1\n",
      "length of audio:  3340\n",
      "working on audio: ../input/all/Kaziranga Wild Ele Call 165_06.02.2020.wav and metafile: ../input/all/Kaziranga Wild Ele Call 165_06.02.2020.txt\n",
      "1\n",
      "length of audio:  5182\n",
      "working on audio: ../input/all/Kaziranga Wild Ele Call 168_06.02.2020.wav and metafile: ../input/all/Kaziranga Wild Ele Call 168_06.02.2020.txt\n",
      "1\n",
      "length of audio:  6341\n",
      "working on audio: ../input/all/Kaziranga Wild Ele Call 169_06.02.2020.wav and metafile: ../input/all/Kaziranga Wild Ele Call 169_06.02.2020.txt\n",
      "1\n",
      "length of audio:  7558\n",
      "working on audio: ../input/all/Kaziranga Wild Ele Call 170_06.02.2020.wav and metafile: ../input/all/Kaziranga Wild Ele Call 170_06.02.2020.txt\n",
      "1\n",
      "length of audio:  5564\n",
      "working on audio: ../input/all/Kaziranga Wild Ele Call 171_06.02.2020.wav and metafile: ../input/all/Kaziranga Wild Ele Call 171_06.02.2020.txt\n",
      "1\n",
      "length of audio:  6758\n",
      "working on audio: ../input/all/Kaziranga Wild Ele Call 172_06.02.2020.wav and metafile: ../input/all/Kaziranga Wild Ele Call 172_06.02.2020.txt\n",
      "1\n",
      "length of audio:  6938\n",
      "working on audio: ../input/all/Kaziranga Wild Ele Call 173_06.02.2020.wav and metafile: ../input/all/Kaziranga Wild Ele Call 173_06.02.2020.txt\n",
      "1\n",
      "length of audio:  7245\n",
      "working on audio: ../input/all/Kaziranga Wild Ele Call 174_06.02.2020.wav and metafile: ../input/all/Kaziranga Wild Ele Call 174_06.02.2020.txt\n",
      "1\n",
      "length of audio:  7999\n",
      "working on audio: ../input/all/Kaziranga Wild Ele Call 175_06.02.2020.wav and metafile: ../input/all/Kaziranga Wild Ele Call 175_06.02.2020.txt\n",
      "1\n",
      "length of audio:  7445\n",
      "working on audio: ../input/all/Kaziranga Wild Ele Call 176_06.02.2020.wav and metafile: ../input/all/Kaziranga Wild Ele Call 176_06.02.2020.txt\n",
      "1\n",
      "length of audio:  6722\n",
      "working on audio: ../input/all/Kaziranga Wild Ele Call 177_06.02.2020.wav and metafile: ../input/all/Kaziranga Wild Ele Call 177_06.02.2020.txt\n",
      "1\n",
      "length of audio:  9560\n",
      "working on audio: ../input/all/Kaziranga Wild Ele Call 178_06.02.2020.wav and metafile: ../input/all/Kaziranga Wild Ele Call 178_06.02.2020.txt\n",
      "1\n",
      "length of audio:  8746\n",
      "working on audio: ../input/all/Kaziranga Wild Ele Call 179_06.02.2020.wav and metafile: ../input/all/Kaziranga Wild Ele Call 179_06.02.2020.txt\n",
      "1\n",
      "length of audio:  2594\n",
      "working on audio: ../input/all/Kaziranga Wild Ele Call 180_06.02.2020.wav and metafile: ../input/all/Kaziranga Wild Ele Call 180_06.02.2020.txt\n",
      "1\n",
      "length of audio:  6434\n",
      "working on audio: ../input/all/Kaziranga Wild Ele Call 182_06.02.2020.wav and metafile: ../input/all/Kaziranga Wild Ele Call 182_06.02.2020.txt\n",
      "1\n",
      "length of audio:  4558\n",
      "working on audio: ../input/all/Kaziranga Wild Ele Call 185_06.02.2020.wav and metafile: ../input/all/Kaziranga Wild Ele Call 185_06.02.2020.txt\n",
      "1\n",
      "length of audio:  1529\n",
      "working on audio: ../input/all/Kaziranga Wild Ele Call 190_14.02.2020.wav and metafile: ../input/all/Kaziranga Wild Ele Call 190_14.02.2020.txt\n",
      "1\n",
      "length of audio:  2992\n",
      "working on audio: ../input/all/Kaziranga Wild Ele Call 191_14.02.2020.wav and metafile: ../input/all/Kaziranga Wild Ele Call 191_14.02.2020.txt\n",
      "1\n",
      "length of audio:  6224\n",
      "working on audio: ../input/all/Kaziranga Wild Ele Call 193_14.02.2020.wav and metafile: ../input/all/Kaziranga Wild Ele Call 193_14.02.2020.txt\n",
      "1\n",
      "length of audio:  2599\n",
      "working on audio: ../input/all/Kaziranga Wild Ele Call 194_14.02.2020.wav and metafile: ../input/all/Kaziranga Wild Ele Call 194_14.02.2020.txt\n",
      "1\n",
      "length of audio:  4235\n",
      "working on audio: ../input/all/Kaziranga Wild Ele Call 196_14.02.2020.wav and metafile: ../input/all/Kaziranga Wild Ele Call 196_14.02.2020.txt\n",
      "1\n",
      "length of audio:  5381\n",
      "working on audio: ../input/all/Kaziranga Wild Ele Call 198_14.02.2020.wav and metafile: ../input/all/Kaziranga Wild Ele Call 198_14.02.2020.txt\n",
      "1\n",
      "length of audio:  2937\n",
      "working on audio: ../input/all/Kaziranga Wild Ele Call 206_14.02.2020.wav and metafile: ../input/all/Kaziranga Wild Ele Call 206_14.02.2020.txt\n",
      "1\n",
      "length of audio:  8876\n",
      "working on audio: ../input/all/Kaziranga Wild Ele Call 207_14.02.2020.wav and metafile: ../input/all/Kaziranga Wild Ele Call 207_14.02.2020.txt\n",
      "1\n",
      "length of audio:  5967\n",
      "working on audio: ../input/all/Kaziranga Wild Ele Call 234_14.02.2020.wav and metafile: ../input/all/Kaziranga Wild Ele Call 234_14.02.2020.txt\n",
      "1\n",
      "length of audio:  2001\n",
      "working on audio: ../input/all/Kaziranga Wild Ele Call 268_14.02.2020.wav and metafile: ../input/all/Kaziranga Wild Ele Call 268_14.02.2020.txt\n",
      "1\n",
      "length of audio:  10668\n",
      "working on audio: ../input/all/Kaziranga Wild Ele Call 269_14.02.2020.wav and metafile: ../input/all/Kaziranga Wild Ele Call 269_14.02.2020.txt\n",
      "1\n",
      "length of audio:  6736\n",
      "working on audio: ../input/all/Kaziranga Wild Ele Call 270_14.02.2020.wav and metafile: ../input/all/Kaziranga Wild Ele Call 270_14.02.2020.txt\n",
      "1\n",
      "length of audio:  4244\n",
      "working on audio: ../input/all/Kaziranga Wild Ele Call 271_14.02.2020.wav and metafile: ../input/all/Kaziranga Wild Ele Call 271_14.02.2020.txt\n",
      "1\n",
      "length of audio:  9157\n",
      "working on audio: ../input/all/Kaziranga Wild Ele Call 275_14.02.2020.wav and metafile: ../input/all/Kaziranga Wild Ele Call 275_14.02.2020.txt\n",
      "1\n",
      "length of audio:  4401\n",
      "working on audio: ../input/all/Kaziranga Wild Ele Call 280_14.02.2020.wav and metafile: ../input/all/Kaziranga Wild Ele Call 280_14.02.2020.txt\n",
      "1\n",
      "length of audio:  2267\n",
      "working on audio: ../input/all/Kaziranga Wild Ele Call 281_14.02.2020.wav and metafile: ../input/all/Kaziranga Wild Ele Call 281_14.02.2020.txt\n",
      "1\n",
      "length of audio:  2252\n",
      "working on audio: ../input/all/Kaziranga Wild Ele Call 283_14.02.2020.wav and metafile: ../input/all/Kaziranga Wild Ele Call 283_14.02.2020.txt\n",
      "1\n",
      "length of audio:  4352\n",
      "working on audio: ../input/all/Kaziranga Wild Ele Call 286_14.02.2020.wav and metafile: ../input/all/Kaziranga Wild Ele Call 286_14.02.2020.txt\n",
      "1\n",
      "length of audio:  2639\n",
      "working on audio: ../input/all/Kaziranga Wild Ele Call 289_17.02.2020.wav and metafile: ../input/all/Kaziranga Wild Ele Call 289_17.02.2020.txt\n",
      "1\n",
      "length of audio:  5823\n",
      "working on audio: ../input/all/Kaziranga Wild Ele Call 316_18.02.2020.wav and metafile: ../input/all/Kaziranga Wild Ele Call 316_18.02.2020.txt\n",
      "1\n",
      "length of audio:  4675\n",
      "working on audio: ../input/all/Kaziranga Wild Ele Call 318_18.02.2020.wav and metafile: ../input/all/Kaziranga Wild Ele Call 318_18.02.2020.txt\n",
      "1\n",
      "length of audio:  4089\n",
      "working on audio: ../input/all/Kaziranga Wild Ele Call 321_24.02.2020.wav and metafile: ../input/all/Kaziranga Wild Ele Call 321_24.02.2020.txt\n",
      "1\n",
      "length of audio:  1958\n",
      "working on audio: ../input/all/Kaziranga Wild Ele Call 327_24.02.2020.wav and metafile: ../input/all/Kaziranga Wild Ele Call 327_24.02.2020.txt\n",
      "1\n",
      "length of audio:  3049\n",
      "working on audio: ../input/all/Kaziranga Wild Ele Call 340_24.02.2020.wav and metafile: ../input/all/Kaziranga Wild Ele Call 340_24.02.2020.txt\n",
      "1\n",
      "length of audio:  4380\n",
      "working on audio: ../input/all/Kaziranga Wild Ele Call 354_29.01.2020.wav and metafile: ../input/all/Kaziranga Wild Ele Call 354_29.01.2020.txt\n",
      "1\n",
      "length of audio:  5601\n",
      "working on audio: ../input/all/Kaziranga Wild Ele Call 17_18.01.2020.wav and metafile: ../input/all/Kaziranga Wild Ele Call 17_18.01.2020.txt\n",
      "1\n",
      "length of audio:  1025\n",
      "working on audio: ../input/all/Kaziranga Wild Ele Call 23_18.01.2020.wav and metafile: ../input/all/Kaziranga Wild Ele Call 23_18.01.2020.txt\n",
      "1\n",
      "length of audio:  908\n",
      "working on audio: ../input/all/Kaziranga Wild Ele Call 36_20.01.2020.wav and metafile: ../input/all/Kaziranga Wild Ele Call 36_20.01.2020.txt\n",
      "1\n",
      "length of audio:  1164\n",
      "working on audio: ../input/all/Kaziranga Wild Ele Call 64_23.01.2020.wav and metafile: ../input/all/Kaziranga Wild Ele Call 64_23.01.2020.txt\n",
      "1\n",
      "length of audio:  1140\n",
      "working on audio: ../input/all/Kaziranga Wild Ele Call 70_25.01.2020.wav and metafile: ../input/all/Kaziranga Wild Ele Call 70_25.01.2020.txt\n",
      "1\n",
      "length of audio:  571\n",
      "working on audio: ../input/all/Kaziranga Wild Ele Call 77_28.01.2020.wav and metafile: ../input/all/Kaziranga Wild Ele Call 77_28.01.2020.txt\n",
      "1\n",
      "length of audio:  759\n",
      "working on audio: ../input/all/Kaziranga Wild Ele Call 78_28.01.2020.wav and metafile: ../input/all/Kaziranga Wild Ele Call 78_28.01.2020.txt\n",
      "1\n",
      "length of audio:  1014\n",
      "working on audio: ../input/all/Kaziranga Wild Ele Call 79_28.01.2020.wav and metafile: ../input/all/Kaziranga Wild Ele Call 79_28.01.2020.txt\n",
      "1\n",
      "length of audio:  887\n",
      "working on audio: ../input/all/Kaziranga Wild Ele Call 95_29.01.2020.wav and metafile: ../input/all/Kaziranga Wild Ele Call 95_29.01.2020.txt\n",
      "1\n",
      "length of audio:  1696\n",
      "working on audio: ../input/all/Kaziranga Wild Ele Call 97_29.01.2020.wav and metafile: ../input/all/Kaziranga Wild Ele Call 97_29.01.2020.txt\n",
      "1\n",
      "length of audio:  1871\n",
      "working on audio: ../input/all/Kaziranga Wild Ele Call 99_29.01.2020.wav and metafile: ../input/all/Kaziranga Wild Ele Call 99_29.01.2020.txt\n",
      "1\n",
      "length of audio:  1268\n",
      "working on audio: ../input/all/Kaziranga Wild Ele Call 107_01.02.2020.wav and metafile: ../input/all/Kaziranga Wild Ele Call 107_01.02.2020.txt\n",
      "1\n",
      "length of audio:  290\n",
      "working on audio: ../input/all/Kaziranga Wild Ele Call 110_01.02.2020.wav and metafile: ../input/all/Kaziranga Wild Ele Call 110_01.02.2020.txt\n",
      "1\n",
      "length of audio:  1062\n",
      "working on audio: ../input/all/Kaziranga Wild Ele Call 112_01.02.2020.wav and metafile: ../input/all/Kaziranga Wild Ele Call 112_01.02.2020.txt\n",
      "1\n",
      "length of audio:  504\n",
      "working on audio: ../input/all/Kaziranga Wild Ele Call 113_01.02.2020.wav and metafile: ../input/all/Kaziranga Wild Ele Call 113_01.02.2020.txt\n",
      "1\n",
      "length of audio:  612\n",
      "working on audio: ../input/all/Kaziranga Wild Ele Call 186_06.02.2020.wav and metafile: ../input/all/Kaziranga Wild Ele Call 186_06.02.2020.txt\n",
      "1\n",
      "length of audio:  1220\n",
      "working on audio: ../input/all/Kaziranga Wild Ele Call 187_14.02.2020.wav and metafile: ../input/all/Kaziranga Wild Ele Call 187_14.02.2020.txt\n",
      "1\n",
      "length of audio:  490\n",
      "working on audio: ../input/all/Kaziranga Wild Ele Call 189_14.02.2020.wav and metafile: ../input/all/Kaziranga Wild Ele Call 189_14.02.2020.txt\n",
      "1\n",
      "length of audio:  673\n",
      "working on audio: ../input/all/Kaziranga Wild Ele Call 202_14.02.2020.wav and metafile: ../input/all/Kaziranga Wild Ele Call 202_14.02.2020.txt\n",
      "1\n",
      "length of audio:  825\n",
      "working on audio: ../input/all/Kaziranga Wild Ele Call 204_14.02.2020.wav and metafile: ../input/all/Kaziranga Wild Ele Call 204_14.02.2020.txt\n",
      "1\n",
      "length of audio:  953\n",
      "working on audio: ../input/all/Kaziranga Wild Ele Call 210_14.02.2020.wav and metafile: ../input/all/Kaziranga Wild Ele Call 210_14.02.2020.txt\n",
      "1\n",
      "length of audio:  862\n",
      "working on audio: ../input/all/Kaziranga Wild Ele Call 213_14.02.2020.wav and metafile: ../input/all/Kaziranga Wild Ele Call 213_14.02.2020.txt\n",
      "1\n",
      "length of audio:  636\n",
      "working on audio: ../input/all/Kaziranga Wild Ele Call 215_14.02.2020.wav and metafile: ../input/all/Kaziranga Wild Ele Call 215_14.02.2020.txt\n",
      "1\n",
      "length of audio:  948\n",
      "working on audio: ../input/all/Kaziranga Wild Ele Call 249_14.02.2020.wav and metafile: ../input/all/Kaziranga Wild Ele Call 249_14.02.2020.txt\n",
      "1\n",
      "length of audio:  1151\n",
      "working on audio: ../input/all/Kaziranga Wild Ele Call 251_14.02.2020.wav and metafile: ../input/all/Kaziranga Wild Ele Call 251_14.02.2020.txt\n",
      "1\n",
      "length of audio:  1095\n",
      "working on audio: ../input/all/Kaziranga Wild Ele Call 259_14.02.2020.wav and metafile: ../input/all/Kaziranga Wild Ele Call 259_14.02.2020.txt\n",
      "1\n",
      "length of audio:  965\n",
      "working on audio: ../input/all/Kaziranga Wild Ele Call 263_14.02.2020.wav and metafile: ../input/all/Kaziranga Wild Ele Call 263_14.02.2020.txt\n",
      "1\n",
      "length of audio:  914\n",
      "working on audio: ../input/all/Kaziranga Wild Ele Call 267_14.02.2020.wav and metafile: ../input/all/Kaziranga Wild Ele Call 267_14.02.2020.txt\n",
      "1\n",
      "length of audio:  1063\n",
      "working on audio: ../input/all/Kaziranga Wild Ele Call 272_14.02.2020.wav and metafile: ../input/all/Kaziranga Wild Ele Call 272_14.02.2020.txt\n",
      "1\n",
      "length of audio:  906\n",
      "working on audio: ../input/all/Kaziranga Wild Ele Call 273_14.02.2020.wav and metafile: ../input/all/Kaziranga Wild Ele Call 273_14.02.2020.txt\n",
      "1\n",
      "length of audio:  866\n",
      "working on audio: ../input/all/Kaziranga Wild Ele Call 274_14.02.2020.wav and metafile: ../input/all/Kaziranga Wild Ele Call 274_14.02.2020.txt\n",
      "1\n",
      "length of audio:  858\n",
      "working on audio: ../input/all/Kaziranga Wild Ele Call 278_14.02.2020.wav and metafile: ../input/all/Kaziranga Wild Ele Call 278_14.02.2020.txt\n",
      "1\n",
      "length of audio:  912\n",
      "working on audio: ../input/all/Kaziranga Wild Ele Call 279_14.02.2020.wav and metafile: ../input/all/Kaziranga Wild Ele Call 279_14.02.2020.txt\n",
      "1\n",
      "length of audio:  810\n",
      "working on audio: ../input/all/Kaziranga Wild Ele Call 285_14.02.2020.wav and metafile: ../input/all/Kaziranga Wild Ele Call 285_14.02.2020.txt\n",
      "1\n",
      "length of audio:  328\n",
      "working on audio: ../input/all/Kaziranga Wild Ele Call 298_17.02.2020.wav and metafile: ../input/all/Kaziranga Wild Ele Call 298_17.02.2020.txt\n",
      "1\n",
      "length of audio:  804\n",
      "working on audio: ../input/all/Kaziranga Wild Ele Call 300_17.02.2020.wav and metafile: ../input/all/Kaziranga Wild Ele Call 300_17.02.2020.txt\n",
      "1\n",
      "length of audio:  769\n",
      "working on audio: ../input/all/Kaziranga Wild Ele Call 302_17.02.2020.wav and metafile: ../input/all/Kaziranga Wild Ele Call 302_17.02.2020.txt\n",
      "1\n",
      "length of audio:  729\n",
      "working on audio: ../input/all/Kaziranga Wild Ele Call 304_17.02.2020.wav and metafile: ../input/all/Kaziranga Wild Ele Call 304_17.02.2020.txt\n",
      "1\n",
      "length of audio:  512\n",
      "working on audio: ../input/all/Kaziranga Wild Ele Call 309_18.02.2020.wav and metafile: ../input/all/Kaziranga Wild Ele Call 309_18.02.2020.txt\n",
      "1\n",
      "length of audio:  892\n",
      "working on audio: ../input/all/Kaziranga Wild Ele Call 310_18.02.2020.wav and metafile: ../input/all/Kaziranga Wild Ele Call 310_18.02.2020.txt\n",
      "1\n",
      "length of audio:  1037\n",
      "working on audio: ../input/all/Kaziranga Wild Ele Call 311_18.02.2020.wav and metafile: ../input/all/Kaziranga Wild Ele Call 311_18.02.2020.txt\n",
      "1\n",
      "length of audio:  1397\n",
      "working on audio: ../input/all/Kaziranga Wild Ele Call 332_24.02.2020.wav and metafile: ../input/all/Kaziranga Wild Ele Call 332_24.02.2020.txt\n",
      "1\n",
      "length of audio:  660\n",
      "working on audio: ../input/all/Kaziranga Wild Ele Call 335_24.02.2020.wav and metafile: ../input/all/Kaziranga Wild Ele Call 335_24.02.2020.txt\n",
      "1\n",
      "length of audio:  509\n",
      "working on audio: ../input/all/Kaziranga Wild Ele Call 337_24.02.2020.wav and metafile: ../input/all/Kaziranga Wild Ele Call 337_24.02.2020.txt\n",
      "1\n",
      "length of audio:  449\n",
      "working on audio: ../input/all/Kaziranga Wild Ele Call 341_24.02.2020.wav and metafile: ../input/all/Kaziranga Wild Ele Call 341_24.02.2020.txt\n",
      "1\n",
      "length of audio:  784\n",
      "working on audio: ../input/all/Kaziranga Wild Ele Call 346_03.03.2020.wav and metafile: ../input/all/Kaziranga Wild Ele Call 346_03.03.2020.txt\n",
      "1\n",
      "length of audio:  539\n",
      "working on audio: ../input/all/Kaziranga Wild Ele Call 347_03.03.2020.wav and metafile: ../input/all/Kaziranga Wild Ele Call 347_03.03.2020.txt\n",
      "1\n",
      "length of audio:  465\n"
     ]
    }
   ],
   "source": [
    "all_voc_list = []\n",
    "voc_lengths = []\n",
    "for filename in os.listdir(inputDirectory):\n",
    "    if filename.endswith(\".wav\"):\n",
    "        audioFile = os.path.join(inputDirectory, filename)\n",
    "        metaDataFile = os.path.join(inputDirectory, filename.replace(\".wav\",\".txt\"))\n",
    "        data = split_and_read(filename, audioFile, metaDataFile)\n",
    "        voc_chunk_data = [(d[0], d[2], d[3]) for d in data[1:]]\n",
    "        all_voc_list.extend(voc_chunk_data)\n",
    "        voc_lengths.extend((d[1]) for d in data[1:])"
   ]
  },
  {
   "cell_type": "code",
   "execution_count": 5,
   "metadata": {
    "scrolled": false
   },
   "outputs": [
    {
     "data": {
      "text/plain": [
       "146"
      ]
     },
     "execution_count": 5,
     "metadata": {},
     "output_type": "execute_result"
    }
   ],
   "source": [
    "len(all_voc_list)"
   ]
  },
  {
   "cell_type": "code",
   "execution_count": 6,
   "metadata": {},
   "outputs": [],
   "source": [
    "highf=[]\n",
    "lowf=[]\n",
    "for voc in all_voc_list:\n",
    "    if (voc[1] == False) and (voc[2] == False) or (voc[1] == True) and (voc[2] == True) or (voc[1] == False) and (voc[2] == True):\n",
    "        highf.append(voc)\n",
    "    elif (voc[1] == True) and (voc[2] == False):\n",
    "        lowf.append(voc)"
   ]
  },
  {
   "cell_type": "code",
   "execution_count": 7,
   "metadata": {},
   "outputs": [
    {
     "data": {
      "text/plain": [
       "80"
      ]
     },
     "execution_count": 7,
     "metadata": {},
     "output_type": "execute_result"
    }
   ],
   "source": [
    "len(highf)"
   ]
  },
  {
   "cell_type": "code",
   "execution_count": 8,
   "metadata": {},
   "outputs": [
    {
     "data": {
      "text/plain": [
       "66"
      ]
     },
     "execution_count": 8,
     "metadata": {},
     "output_type": "execute_result"
    }
   ],
   "source": [
    "len(lowf)"
   ]
  },
  {
   "cell_type": "code",
   "execution_count": 9,
   "metadata": {
    "scrolled": true
   },
   "outputs": [
    {
     "name": "stdout",
     "output_type": "stream",
     "text": [
      "longest vocalization:  10.668 seconds\n",
      "shortest vococalization: 0.007 seconds\n",
      "Petcentage of vocalizations less than  6  seconds long: 0.821917808219178 %\n",
      "Petcentage of vocalizations less than  8  seconds long: 0.958904109589041 %\n"
     ]
    },
    {
     "data": {
      "image/png": "[encoded data removed]",
      "text/plain": [
       "<Figure size 432x288 with 1 Axes>"
      ]
     },
     "metadata": {
      "needs_background": "light"
     },
     "output_type": "display_data"
    }
   ],
   "source": [
    "voc_len_arr = np.array(voc_lengths)/1000\n",
    "plt.plot(voc_len_arr, 'o')\n",
    "print('longest vocalization: ',max(voc_len_arr), \"seconds\")\n",
    "print('shortest vococalization:', min(voc_len_arr), \"seconds\")\n",
    "voc_length = 6\n",
    "print('Petcentage of vocalizations less than ', voc_length, ' seconds long:', np.sum(voc_len_arr < voc_length)/len(voc_len_arr), '%')\n",
    "voc_length = 8\n",
    "print('Petcentage of vocalizations less than ', voc_length, ' seconds long:', np.sum(voc_len_arr < voc_length)/len(voc_len_arr), '%')"
   ]
  },
  {
   "cell_type": "markdown",
   "metadata": {},
   "source": [
    "## Split into test and train datasets"
   ]
  },
  {
   "cell_type": "code",
   "execution_count": 10,
   "metadata": {},
   "outputs": [],
   "source": [
    "from sklearn.model_selection import train_test_split"
   ]
  },
  {
   "cell_type": "code",
   "execution_count": 11,
   "metadata": {},
   "outputs": [],
   "source": [
    "train_test_ratio = 0.2"
   ]
  },
  {
   "cell_type": "code",
   "execution_count": 12,
   "metadata": {},
   "outputs": [],
   "source": [
    "highf_train, highf_test = train_test_split(highf, test_size = train_test_ratio, random_state=10)\n",
    "lowf_train, lowf_test  = train_test_split(lowf, test_size = train_test_ratio, random_state=10)"
   ]
  },
  {
   "cell_type": "code",
   "execution_count": 13,
   "metadata": {},
   "outputs": [
    {
     "name": "stdout",
     "output_type": "stream",
     "text": [
      "Total number of files:  146\n",
      "Train files:\n",
      "High frequency:  64\n",
      "Low frequency:  52\n",
      "\n",
      "Test files:\n",
      "High frequency:  16\n",
      "Low frequency:  14\n"
     ]
    }
   ],
   "source": [
    "print(\"Total number of files: \", len(all_voc_list))\n",
    "print(\"Train files:\")\n",
    "print(\"High frequency: \", len(highf_train))\n",
    "print(\"Low frequency: \", len(lowf_train))\n",
    "print()\n",
    "print(\"Test files:\")\n",
    "print(\"High frequency: \", len(highf_test))\n",
    "print(\"Low frequency: \", len(lowf_test))"
   ]
  },
  {
   "cell_type": "markdown",
   "metadata": {},
   "source": [
    "## Process data"
   ]
  },
  {
   "cell_type": "code",
   "execution_count": 14,
   "metadata": {},
   "outputs": [],
   "source": [
    "from sklearn.preprocessing import MinMaxScaler\n",
    "import scipy.signal"
   ]
  },
  {
   "cell_type": "code",
   "execution_count": 15,
   "metadata": {},
   "outputs": [],
   "source": [
    "def rand_stretch(sound, rate=np.random.uniform(low=0.5,high=1.5)):\n",
    "    \"\"\"\n",
    "    Randomly squeeze or strech the sound array in the passed data and return the squeezed file\n",
    "    Params - \n",
    "    sound: Array(soundData, bit1, bit2)\n",
    "    rate: constaints for how much to stretch or sqeeze the file. Default: squeeze or strech so that the new file is 0.5 to 1.5 the speed of the original\n",
    "    \n",
    "    Returns - \n",
    "    Array(squeezed file, bit1, bit2)\n",
    "    \"\"\"\n",
    "    stretched_sound = librosa.effects.time_stretch(sound, rate)\n",
    "    return stretched_sound\n",
    "\n",
    "def stretch_breaths_list(data_list, repeat, append_fraction=1):\n",
    "    \"\"\"\n",
    "    Do rand_stretch for a list of arays to be passed to rand_stretch\n",
    "    Params - \n",
    "    data_list: list of arrays to be passed to rand_stretch\n",
    "    repeat: How many time to pass list to rand_stretch. Essetially, the number of times to mulitply the number of sound arrays by 2\n",
    "    append_fraction: fraction of data_list to randomly sample data_list and pass the sampled list to rand_stretch. By default takes the whole data_list\n",
    "    \"\"\"\n",
    "    streched_data_list = []\n",
    "    streched_data_list.extend(data_list)\n",
    "    for i in range(0, repeat):\n",
    "        np.random.shuffle(data_list)\n",
    "        count = int(len(data_list) * (1-append_fraction))\n",
    "        data_list_cut = data_list[count:]\n",
    "        stretched = []\n",
    "        for data in data_list_cut:\n",
    "            sound = data[0]\n",
    "            stretched.append((rand_stretch(sound), data[1], data[2]))\n",
    "        streched_data_list.extend(stretched)\n",
    "    return streched_data_list"
   ]
  },
  {
   "cell_type": "code",
   "execution_count": 16,
   "metadata": {},
   "outputs": [],
   "source": [
    "def resize(data, final_len_seconds, sample_rate=22000):\n",
    "    \"\"\"\n",
    "    Resize the sound file passed to it to a particular size so that it can be trained. The model requires all the arrays to be trained to be the same size\n",
    "    If the sound file is smaller than the requied lenght to be padded, copy it a whole number of times and pad the rest with zeros\n",
    "    If the sound file is bigger than the required length, squeeze it till it is the right length\n",
    "    Params - \n",
    "    data: Array(soundData, bit1, bit2)\n",
    "    final_len_seconds: length in seconds the file needs to be resized to\n",
    "    sample_rate: current sample rate of the file\n",
    "    \n",
    "    Returns - \n",
    "    Array(ResizedSoundData, bit1, bit2)\n",
    "    \n",
    "    \"\"\"\n",
    "    len_to_fill = int(final_len_seconds * sample_rate)\n",
    "    sound = data[0]\n",
    "    len_filled = len(sound)\n",
    "    len_filled_seconds = len_filled / sample_rate \n",
    "    initial_sound = sound\n",
    "    if (len(initial_sound) < len_to_fill):\n",
    "        for n in range(0, int(final_len_seconds//len_filled_seconds)-1):\n",
    "            initial_sound=np.concatenate((initial_sound,sound), axis=0)\n",
    "        len_to_pad = len_to_fill-len(initial_sound)\n",
    "        final_data = np.pad(initial_sound, [(0, len_to_pad)], mode='constant', constant_values=0)#Pad with zeros\n",
    "    else:\n",
    "        rate=len(initial_sound)/len_to_fill\n",
    "        final_data = librosa.effects.time_stretch(initial_sound, rate)\n",
    "    return (final_data, data[1], data[2])"
   ]
  },
  {
   "cell_type": "code",
   "execution_count": 17,
   "metadata": {},
   "outputs": [],
   "source": [
    "window_length = 25/1000   # in seconds \n",
    "filters_no = 50"
   ]
  },
  {
   "cell_type": "code",
   "execution_count": 18,
   "metadata": {},
   "outputs": [],
   "source": [
    "# Reference: http://practicalcryptography.com/miscellaneous/machine-learning/guide-mel-frequency-cepstral-coefficients-mfccs/\n",
    "def hz2mel(hz):\n",
    "    return 1125 * np.log(1 + hz / 700)\n",
    "\n",
    "def mel2hz(mel):\n",
    "    return 700 * (np.exp(mel/1125) - 1)"
   ]
  },
  {
   "cell_type": "markdown",
   "metadata": {},
   "source": [
    "##### This is the formula to calculate mel filterbanks for a particular frequency:\n",
    "##### Reference: http://practicalcryptography.com/miscellaneous/machine-learning/guide-mel-frequency-cepstral-coefficients-mfccs/\n",
    "<img src=\"../code/formula_blackbg.png\">"
   ]
  },
  {
   "cell_type": "code",
   "execution_count": 19,
   "metadata": {},
   "outputs": [],
   "source": [
    "def get_mel_filterbanks(audio, sample_rate, filters_no, window_length=0.023233, window_func = 'hamming', fmin=None, fmax=None):\n",
    "    \"\"\"\n",
    "    Create melspectrogram from the audio sample.\n",
    "    References: https://github.com/jameslyons/python_speech_features ; https://haythamfayek.com/2016/04/21/speech-processing-for-machine-learning.html\n",
    "                https://sci-hub.se/10.1109/ICASSP.2013.6639061\n",
    "    Params - sound file, sample rate, number of filters needed, window lenth for sfft, window function for sfft, \n",
    "\n",
    "    Returns -\n",
    "    Filterbanks as cube root values reshaped to constant float array\n",
    "\n",
    "    \"\"\"\n",
    "    windows_no = int(window_length*sample_rate)   # no of windows to use for a 25 ms window length\n",
    "\n",
    "    (f, t, Sxx) = scipy.signal.spectrogram(audio,fs = sample_rate, nfft= windows_no, nperseg=windows_no, window=window_func)    # Get frequency spectrogram signal\n",
    "\n",
    "    if fmin is None:\n",
    "        fmin = min(f)\n",
    "    if fmax is None:\n",
    "        fmax = max(f)\n",
    "\n",
    "    freq_slice = np.where((f >= fmin) & (f <= fmax)) # Remove frequencies above fmax\n",
    "    freq_bins = f[freq_slice]\n",
    "    Sxx = Sxx[freq_slice,:][0]\n",
    "\n",
    "    max_mel = hz2mel(max(freq_bins))\n",
    "    min_mel = hz2mel(min(freq_bins))\n",
    "    mel_bins = np.linspace(min_mel, max_mel, num = (filters_no+2))      # Creating the mel scale f() in the above equation\n",
    "    mel_freq_bins = mel2hz(mel_bins)  \n",
    "\n",
    "    all_fbanks = []\n",
    "    for m in range(1, filters_no+1): \n",
    "        fbank = []\n",
    "        for k in freq_bins:\n",
    "            if(k < mel_freq_bins[m-1]):\n",
    "                hm = 0\n",
    "            elif(k < mel_freq_bins[m]):\n",
    "                hm = (k - mel_freq_bins[m-1]) / (mel_freq_bins[m] - mel_freq_bins[m-1])\n",
    "            elif(k < mel_freq_bins[m + 1]):\n",
    "                hm = (mel_freq_bins[m+1] - k) / (mel_freq_bins[m + 1] - mel_freq_bins[m])\n",
    "            else:\n",
    "                hm = 0\n",
    "            fbank.append(hm)\n",
    "        all_fbanks.append(fbank)\n",
    "    all_fbanks = np.array(all_fbanks).astype(np.float32)\n",
    "\n",
    "    sound_mel_filterbanks = np.matmul(all_fbanks, Sxx)\n",
    "    cbrt_mel_fbanks = np.cbrt(sound_mel_filterbanks  + float(10e-12))   # Cube root is taken here instead of log as it is much more robust\n",
    "                                                        # Adding a very small number to prevent log 0\n",
    "    scaler = MinMaxScaler()\n",
    "    scaler.fit(cbrt_mel_fbanks)\n",
    "    scaler.data_max_\n",
    "    norm_cbrt_mel_fbanks=scaler.transform(cbrt_mel_fbanks)    # Normalize sound\n",
    "    return np.reshape(norm_cbrt_mel_fbanks, (filters_no,Sxx.shape[1],1)).astype(np.float32)"
   ]
  },
  {
   "cell_type": "code",
   "execution_count": 20,
   "metadata": {},
   "outputs": [],
   "source": [
    "def one_hot_encode(data):\n",
    "    \"\"\"\n",
    "    One hot encode the data for training\n",
    "    Params - \n",
    "    data: flags to one hot encode\n",
    "    \n",
    "    Returns - \n",
    "    one hot encoded label array\n",
    "    \"\"\"\n",
    "    if (data[1] == False) & (data[2] == False):\n",
    "        one_hot_label = np.array([1,0])\n",
    "    elif (data[1] == True) & (data[2] == True):\n",
    "        one_hot_label = np.array([1,0])\n",
    "    elif (data[1] == False) & (data[2] == True):\n",
    "        one_hot_label = np.array([1,0])\n",
    "    elif (data[1] == True) & (data[2] == False):\n",
    "        one_hot_label = np.array([0,1])\n",
    "    return one_hot_label  "
   ]
  },
  {
   "cell_type": "code",
   "execution_count": 21,
   "metadata": {},
   "outputs": [],
   "source": [
    "def resize_mel_and_onehot_list(data_list, final_len_seconds, sample_rate=22000):\n",
    "    \"\"\"\n",
    "    Do resize, get_mel_filterbanks and one_hot_encode on a list of the arrays to be passes\n",
    "    Params - \n",
    "    data_list: List of arrays to be passed\n",
    "    final_len_seconds: Seconds to which all files in array have to be resized\n",
    "    sample_rate: Sample rate of each array\n",
    "    \"\"\"\n",
    "    final_list=[]\n",
    "    for data in data_list:\n",
    "        resized = resize(data, final_len_seconds, sample_rate)\n",
    "        mel = get_mel_filterbanks(resized[0], sample_rate, 50)\n",
    "        one_hot_label = one_hot_encode(data)\n",
    "        final_list.append((mel, one_hot_label))\n",
    "    return final_list"
   ]
  },
  {
   "cell_type": "code",
   "execution_count": 22,
   "metadata": {},
   "outputs": [],
   "source": [
    "highf_stretched_train = stretch_breaths_list(highf_train, 1)    "
   ]
  },
  {
   "cell_type": "code",
   "execution_count": 23,
   "metadata": {},
   "outputs": [],
   "source": [
    "lowf_stretched_train=stretch_breaths_list(lowf_train, 2, 0.7)"
   ]
  },
  {
   "cell_type": "code",
   "execution_count": 24,
   "metadata": {
    "scrolled": true
   },
   "outputs": [
    {
     "name": "stdout",
     "output_type": "stream",
     "text": [
      "Train files:\n",
      "highf:  128\n",
      "lowf:  126\n"
     ]
    }
   ],
   "source": [
    "print(\"Train files:\")\n",
    "print(\"highf: \", len(highf_stretched_train))\n",
    "print(\"lowf: \", len(lowf_stretched_train))"
   ]
  },
  {
   "cell_type": "code",
   "execution_count": 25,
   "metadata": {},
   "outputs": [],
   "source": [
    "highf_final_train = resize_mel_and_onehot_list(highf_stretched_train,8)\n",
    "lowf_final_train = resize_mel_and_onehot_list(lowf_stretched_train,8)"
   ]
  },
  {
   "cell_type": "code",
   "execution_count": 26,
   "metadata": {},
   "outputs": [],
   "source": [
    "train_dict = {'highf':highf_final_train,'lowf':lowf_final_train}"
   ]
  },
  {
   "cell_type": "code",
   "execution_count": 27,
   "metadata": {},
   "outputs": [
    {
     "name": "stderr",
     "output_type": "stream",
     "text": [
      "/home/chinmayi/anaconda3/envs/tf-env/lib/python3.9/site-packages/librosa/core/spectrum.py:222: UserWarning: n_fft=2048 is too small for input signal of length=308\n",
      "  warnings.warn(\n"
     ]
    }
   ],
   "source": [
    "highf_stretched_test = stretch_breaths_list(highf_test, 1)"
   ]
  },
  {
   "cell_type": "code",
   "execution_count": 28,
   "metadata": {},
   "outputs": [],
   "source": [
    "lowf_stretched_test=stretch_breaths_list(lowf_test, 2, 0.7)"
   ]
  },
  {
   "cell_type": "code",
   "execution_count": 29,
   "metadata": {},
   "outputs": [
    {
     "name": "stdout",
     "output_type": "stream",
     "text": [
      "Test files:\n",
      "highf:  32\n",
      "lowf:  34\n"
     ]
    }
   ],
   "source": [
    "print(\"Test files:\")\n",
    "print(\"highf: \", len(highf_stretched_test))\n",
    "print(\"lowf: \", len(lowf_stretched_test))"
   ]
  },
  {
   "cell_type": "code",
   "execution_count": 30,
   "metadata": {},
   "outputs": [],
   "source": [
    "highf_final_test = resize_mel_and_onehot_list(highf_stretched_test,8)\n",
    "lowf_final_test = resize_mel_and_onehot_list(lowf_stretched_test,8)"
   ]
  },
  {
   "cell_type": "code",
   "execution_count": 31,
   "metadata": {},
   "outputs": [],
   "source": [
    "test_dict = {'highf':highf_final_test,'lowf':lowf_final_test}"
   ]
  },
  {
   "cell_type": "code",
   "execution_count": 83,
   "metadata": {
    "scrolled": true
   },
   "outputs": [
    {
     "name": "stdout",
     "output_type": "stream",
     "text": [
      "(50, 392, 1)\n"
     ]
    },
    {
     "data": {
      "image/png": "[encoded data removed]",
      "text/plain": [
       "<Figure size 720x720 with 2 Axes>"
      ]
     },
     "metadata": {
      "needs_background": "light"
     },
     "output_type": "display_data"
    }
   ],
   "source": [
    "sample_height = train_dict['highf'][0][0].shape[0]\n",
    "sample_width = train_dict['highf'][0][0].shape[1]\n",
    "ind = 9\n",
    "plt.figure(figsize = (10,10))\n",
    "plt.subplot(4,1,1)\n",
    "plt.imshow(train_dict['highf'][ind][0].reshape(sample_height, sample_width))\n",
    "plt.title('highf')\n",
    "plt.subplot(4,1,2)\n",
    "plt.imshow(train_dict['lowf'][ind][0].reshape(sample_height, sample_width))\n",
    "plt.title('lowf')\n",
    "plt.tight_layout()\n",
    "print(train_dict['highf'][0][0].shape)"
   ]
  },
  {
   "cell_type": "markdown",
   "metadata": {},
   "source": [
    "## Data Pipeline"
   ]
  },
  {
   "cell_type": "code",
   "execution_count": 86,
   "metadata": {},
   "outputs": [],
   "source": [
    "import scipy.signal\n",
    "\n",
    "\"\"\"\n",
    "Data generator for both traning and validation. Wraps each sound array on its time axis using FFTroll before feeding to the model\n",
    "Reference: https://stanford.edu/~shervine/blog/keras-how-to-generate-data-on-the-fly\n",
    "\"\"\"\n",
    "class data_generator():\n",
    "    def __init__(self, sound_clips, strides):\n",
    "        self.clips = sound_clips\n",
    "        self.strides = strides\n",
    "        self.lengths = [len(arr) for arr in sound_clips]\n",
    "        print(int(min(np.divide(self.lengths, self.strides))) * 2)\n",
    "    \n",
    "    def n_available_samples(self):\n",
    "        x=int(min(np.divide(self.lengths, self.strides))) * 2\n",
    "        return x\n",
    "    \n",
    "    def generate_keras(self, batch_size):\n",
    "        cursor = [0,0]\n",
    "        while True:\n",
    "            i = 0\n",
    "            X,y = [],[]\n",
    "            for c in range(batch_size):\n",
    "                cat_length = self.lengths[i]\n",
    "                cat_clips = self.clips[i]\n",
    "                cat_stride = self.strides[i]\n",
    "                cat_advance = np.random.randint(low= 1,high = cat_stride + 1)\n",
    "                clip = cat_clips[(cursor[i] + cat_advance) % cat_length]\n",
    "                cursor[i] = (cursor[i] + self.strides[i]) % cat_length #advance cursor\n",
    "                s = (self.rollFFT(clip))\n",
    "                X.append(s[0])\n",
    "                y.append(s[1])\n",
    "                i = (i + 1) % 2 # go to next class\n",
    "            yield (np.reshape(X, (batch_size, sample_height, sample_width, 1)),\n",
    "                   np.reshape(y,(batch_size,2)))\n",
    "\n",
    "    #Transpose and wrap each array along the time axis\n",
    "    def rollFFT(self, fft_info):\n",
    "        fft = fft_info[0]\n",
    "        n_col = fft.shape[1]\n",
    "        pivot = np.random.randint(n_col)\n",
    "        return ((np.roll(fft, pivot, axis = 1)), fft_info[1])\n",
    "\n",
    "#Used for validation set\n",
    "class feed_all():\n",
    "    #sound_clips = [[none],[crackles],[wheezes],[both]]\n",
    "    #strides: How far the sampling index for each category is advanced for each step\n",
    "    def __init__(self, sound_clips, roll = True):\n",
    "        merged = []\n",
    "        for arr in sound_clips:\n",
    "            merged.extend(arr)\n",
    "        np.random.shuffle(merged)\n",
    "        self.clips = merged\n",
    "        self.nclips = len(merged)\n",
    "        self.roll = roll\n",
    "    \n",
    "    def n_available_samples(self):\n",
    "        return len(self.clips)\n",
    "    \n",
    "    def generate_keras(self, batch_size):\n",
    "        i = 0\n",
    "        while True:\n",
    "            X,y = [],[]\n",
    "            for b in range(batch_size):\n",
    "                clip = self.clips[i]\n",
    "                i = (i + 1) % self.nclips\n",
    "                if(self.roll):\n",
    "                    s = (self.rollFFT(clip))\n",
    "                    X.append(s[0])\n",
    "                    y.append(s[1])\n",
    "                else:\n",
    "                    X.append(clip[0])\n",
    "                    y.append(clip[1])\n",
    "                    \n",
    "            yield (np.reshape(X, (batch_size,sample_height, sample_width,1)),\n",
    "                   np.reshape(y,(batch_size, 2)))\n",
    "\n",
    "    #Transpose and wrap each array along the time axis\n",
    "    def rollFFT(self, fft_info):\n",
    "        fft = fft_info[0]\n",
    "        n_col = fft.shape[1]\n",
    "        pivot = np.random.randint(n_col)\n",
    "        return ((np.roll(fft, pivot, axis = 1)), fft_info[1])"
   ]
  },
  {
   "cell_type": "code",
   "execution_count": 87,
   "metadata": {},
   "outputs": [],
   "source": [
    "batch_size = 32\n",
    "epochs = 8"
   ]
  },
  {
   "cell_type": "code",
   "execution_count": 88,
   "metadata": {},
   "outputs": [
    {
     "name": "stdout",
     "output_type": "stream",
     "text": [
      "252\n"
     ]
    }
   ],
   "source": [
    "[highf_test, lowf_test] =  [test_dict['highf'], test_dict['lowf']]\n",
    "\n",
    "#Data pipeline objects\n",
    "train_gen = data_generator([train_dict['highf'], train_dict['lowf']], [1,1])\n",
    "test_gen = feed_all([highf_test, lowf_test])"
   ]
  },
  {
   "cell_type": "code",
   "execution_count": 82,
   "metadata": {},
   "outputs": [
    {
     "data": {
      "text/plain": [
       "(147708,)"
      ]
     },
     "execution_count": 82,
     "metadata": {},
     "output_type": "execute_result"
    }
   ],
   "source": [
    "highf_train[0][0].shape"
   ]
  },
  {
   "cell_type": "code",
   "execution_count": 90,
   "metadata": {},
   "outputs": [
    {
     "name": "stderr",
     "output_type": "stream",
     "text": [
      "/home/chinmayi/anaconda3/envs/tf-env/lib/python3.9/site-packages/keras/optimizer_v2/adam.py:105: UserWarning: The `lr` argument is deprecated, use `learning_rate` instead.\n",
      "  super(Adam, self).__init__(name, **kwargs)\n"
     ]
    }
   ],
   "source": [
    "#Keras implementation\n",
    "from tensorflow.keras import Sequential\n",
    "from tensorflow.keras import optimizers\n",
    "from tensorflow.keras import backend as K\n",
    "from tensorflow.keras.layers import Conv2D, Dense, Activation, Dropout, MaxPool2D, Flatten, LeakyReLU\n",
    "import tensorflow as tf\n",
    "K.clear_session()\n",
    "\n",
    "model = Sequential()\n",
    "model.add(Conv2D(128, [7,11], strides = [2,2], padding = 'SAME', input_shape = (sample_height, sample_width, 1)))\n",
    "model.add(LeakyReLU(alpha = 0.1))\n",
    "model.add(MaxPool2D(padding = 'SAME'))\n",
    "\n",
    "model.add(Conv2D(256, [5,5], padding = 'SAME'))\n",
    "model.add(LeakyReLU(alpha = 0.1))\n",
    "model.add(MaxPool2D(padding = 'SAME'))\n",
    "\n",
    "model.add(Conv2D(256, [1,1], padding = 'SAME'))\n",
    "model.add(Conv2D(256, [3,3], padding = 'SAME'))\n",
    "model.add(LeakyReLU(alpha = 0.1))\n",
    "model.add(MaxPool2D(padding = 'SAME'))\n",
    "\n",
    "model.add(Conv2D(512, [1,1], padding = 'SAME'))\n",
    "model.add(Conv2D(512, [3,3], padding = 'SAME',activation = 'relu'))\n",
    "model.add(Conv2D(512, [1,1], padding = 'SAME'))\n",
    "model.add(Conv2D(512, [3,3], padding = 'SAME', activation = 'relu'))\n",
    "model.add(MaxPool2D(padding = 'SAME'))\n",
    "model.add(Flatten())\n",
    "\n",
    "model.add(Dense(4096, activation = 'relu'))\n",
    "model.add(Dropout(0.5))\n",
    "\n",
    "model.add(Dense(512, activation = 'relu'))\n",
    "model.add(Dense(2, activation = 'softmax'))\n",
    "\n",
    "initial_learning_rate = 0.0001\n",
    "lr_schedule = tf.keras.optimizers.schedules.ExponentialDecay(\n",
    "    initial_learning_rate = initial_learning_rate,\n",
    "    decay_steps=5,\n",
    "    decay_rate=0.96,\n",
    "    staircase=True\n",
    ")\n",
    "\n",
    "opt = optimizers.Adam(lr=0.0001, beta_1=0.9, beta_2=0.999, epsilon=None, decay=0.00, amsgrad=False)\n",
    "\n",
    "#opt = optimizers.Adam(learning_rate=lr_schedule, beta_1=0.9, beta_2=0.999, epsilon=None, amsgrad=False)\n",
    "\n",
    "model.compile(optimizer =  opt , loss = 'categorical_crossentropy', metrics = ['acc'])"
   ]
  },
  {
   "cell_type": "code",
   "execution_count": 91,
   "metadata": {},
   "outputs": [
    {
     "name": "stderr",
     "output_type": "stream",
     "text": [
      "/tmp/ipykernel_743769/3077336977.py:1: UserWarning: `Model.fit_generator` is deprecated and will be removed in a future version. Please use `Model.fit`, which supports generators.\n",
      "  stats = model.fit_generator(generator = train_gen.generate_keras(batch_size),\n"
     ]
    },
    {
     "name": "stdout",
     "output_type": "stream",
     "text": [
      "Epoch 1/8\n",
      "7/7 [==============================] - 56s 6s/step - loss: 0.6124 - acc: 0.5759 - val_loss: 0.4826 - val_acc: 0.7812\n",
      "Epoch 2/8\n",
      "7/7 [==============================] - 41s 6s/step - loss: 0.3002 - acc: 0.8929 - val_loss: 1.0122 - val_acc: 0.7500\n",
      "Epoch 3/8\n",
      "7/7 [==============================] - 41s 6s/step - loss: 0.2319 - acc: 0.9196 - val_loss: 0.4580 - val_acc: 0.8438\n",
      "Epoch 4/8\n",
      "7/7 [==============================] - 41s 6s/step - loss: 0.1432 - acc: 0.9241 - val_loss: 0.2982 - val_acc: 0.8594\n",
      "Epoch 5/8\n",
      "7/7 [==============================] - 41s 6s/step - loss: 0.1192 - acc: 0.9554 - val_loss: 0.3648 - val_acc: 0.8906\n",
      "Epoch 6/8\n",
      "7/7 [==============================] - 41s 6s/step - loss: 0.0860 - acc: 0.9643 - val_loss: 0.3814 - val_acc: 0.9062\n",
      "Epoch 7/8\n",
      "7/7 [==============================] - 41s 6s/step - loss: 0.0587 - acc: 0.9866 - val_loss: 0.4024 - val_acc: 0.9531\n",
      "Epoch 8/8\n",
      "7/7 [==============================] - 41s 6s/step - loss: 0.0747 - acc: 0.9732 - val_loss: 0.4707 - val_acc: 0.9688\n"
     ]
    }
   ],
   "source": [
    "stats = model.fit_generator(generator = train_gen.generate_keras(batch_size), \n",
    "                            steps_per_epoch = train_gen.n_available_samples() // batch_size,\n",
    "                            validation_data = test_gen.generate_keras(batch_size),\n",
    "                            validation_steps = test_gen.n_available_samples() // batch_size, \n",
    "                            epochs = epochs)"
   ]
  },
  {
   "cell_type": "code",
   "execution_count": 92,
   "metadata": {},
   "outputs": [
    {
     "data": {
      "text/plain": [
       "Text(0.5, 1.0, 'Loss')"
      ]
     },
     "execution_count": 92,
     "metadata": {},
     "output_type": "execute_result"
    },
    {
     "data": {
      "image/png": "[encoded data removed]",
      "text/plain": [
       "<Figure size 1080x360 with 2 Axes>"
      ]
     },
     "metadata": {
      "needs_background": "light"
     },
     "output_type": "display_data"
    }
   ],
   "source": [
    "plt.figure(figsize = (15,5))\n",
    "plt.subplot(1,2,1)\n",
    "plt.title('Accuracy')\n",
    "plt.plot(stats.history['acc'], label = 'training acc')\n",
    "plt.plot(stats.history['val_acc'], label = 'validation acc')\n",
    "plt.legend()\n",
    "plt.subplot(1,2,2)\n",
    "plt.plot(stats.history['loss'], label = 'training loss')\n",
    "plt.plot(stats.history['val_loss'], label = 'validation loss')\n",
    "plt.legend()\n",
    "plt.title('Loss')"
   ]
  },
  {
   "cell_type": "code",
   "execution_count": 93,
   "metadata": {},
   "outputs": [
    {
     "data": {
      "text/plain": [
       "array([0, 0, 1, 0, 0, 1, 0, 1, 1, 1, 0, 1, 0, 1, 1, 1, 1, 1, 1, 1, 0, 0,\n",
       "       0, 1, 1, 0, 1, 0, 1, 0, 1, 0, 0, 0, 1, 1, 0, 0, 0, 1, 1, 0, 1, 0,\n",
       "       0, 0, 1, 1, 1, 1, 0, 1, 1, 1, 0, 1, 0, 0, 1, 1, 0, 1, 1, 0, 0, 1])"
      ]
     },
     "execution_count": 93,
     "metadata": {},
     "output_type": "execute_result"
    }
   ],
   "source": [
    "test_set = test_gen.generate_keras(test_gen.n_available_samples()).__next__()\n",
    "predictions = model.predict(test_set[0])\n",
    "predictions = np.argmax(predictions, axis = 1)\n",
    "labels = np.argmax(test_set[1], axis = 1)\n",
    "predictions"
   ]
  },
  {
   "cell_type": "code",
   "execution_count": 95,
   "metadata": {},
   "outputs": [
    {
     "name": "stdout",
     "output_type": "stream",
     "text": [
      "              precision    recall  f1-score   support\n",
      "\n",
      "       highf       1.00      0.94      0.97        32\n",
      "        lowf       0.94      1.00      0.97        34\n",
      "\n",
      "    accuracy                           0.97        66\n",
      "   macro avg       0.97      0.97      0.97        66\n",
      "weighted avg       0.97      0.97      0.97        66\n",
      "\n",
      "[[30  2]\n",
      " [ 0 34]]\n"
     ]
    }
   ],
   "source": [
    "from sklearn.metrics import classification_report, confusion_matrix\n",
    "\n",
    "print(classification_report(labels, predictions, target_names = ['highf','lowf']))\n",
    "cm = confusion_matrix(labels, predictions)\n",
    "print(cm)"
   ]
  },
  {
   "cell_type": "code",
   "execution_count": 96,
   "metadata": {},
   "outputs": [],
   "source": [
    "labels = ['highf','lowf']\n",
    "cm_df = pd.DataFrame(cm, columns=labels, index=labels)"
   ]
  },
  {
   "cell_type": "code",
   "execution_count": 97,
   "metadata": {},
   "outputs": [
    {
     "data": {
      "image/png": "[encoded data removed]",
      "text/plain": [
       "<Figure size 432x288 with 2 Axes>"
      ]
     },
     "metadata": {
      "needs_background": "light"
     },
     "output_type": "display_data"
    }
   ],
   "source": [
    "import seaborn as sns\n",
    "ax = sns.heatmap(cm_df, annot=True, fmt='g')"
   ]
  },
  {
   "cell_type": "code",
   "execution_count": 98,
   "metadata": {},
   "outputs": [],
   "source": [
    "model.save('./HL_model.h5')"
   ]
  }
 ],
 "metadata": {
  "kernelspec": {
   "display_name": "Python 3.8.5 64-bit ('covid-detect-cw-pip': conda)",
   "metadata": {
    "interpreter": {
     "hash": "1f89ed23d2ece5035691003a382c257f1c0719d637c56973d87445e28b84e325"
    }
   },
   "name": "python3"
  },
  "language_info": {
   "codemirror_mode": {
    "name": "ipython",
    "version": 3
   },
   "file_extension": ".py",
   "mimetype": "text/x-python",
   "name": "python",
   "nbconvert_exporter": "python",
   "pygments_lexer": "ipython3",
   "version": "3.9.7"
  }
 },
 "nbformat": 4,
 "nbformat_minor": 4
}
